{
 "cells": [
  {
   "cell_type": "code",
   "execution_count": null,
   "metadata": {},
   "outputs": [],
   "source": [
    "import pandas as pd\n",
    "import numpy as np\n",
    "import glob\n",
    "import matplotlib.pyplot as plt\n",
    "import matplotlib.patches as patches"
   ]
  },
  {
   "cell_type": "code",
   "execution_count": null,
   "metadata": {},
   "outputs": [],
   "source": [
    "file_path = r'G:\\DataScience\\Data Insight\\NAICS\\csv_files'\n",
    "all_csv_files = glob.glob(file_path + '/*.csv')\n",
    "\n",
    "csv_list = []\n",
    "\n",
    "for csv_file in all_csv_files:\n",
    "    combined_dataframe = pd.read_csv(csv_file, index_col = None, header = 0)\n",
    "    csv_list.append(combined_dataframe)\n",
    "    \n",
    "data = pd.concat(csv_list, axis = 0, ignore_index = True)\n",
    "data"
   ]
  }
 ],
 "metadata": {
  "kernelspec": {
   "display_name": "Python 3",
   "language": "python",
   "name": "python3"
  },
  "language_info": {
   "codemirror_mode": {
    "name": "ipython",
    "version": 3
   },
   "file_extension": ".py",
   "mimetype": "text/x-python",
   "name": "python",
   "nbconvert_exporter": "python",
   "pygments_lexer": "ipython3",
   "version": "3.7.4"
  }
 },
 "nbformat": 4,
 "nbformat_minor": 2
}
